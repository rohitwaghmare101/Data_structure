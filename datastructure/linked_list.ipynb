{
 "cells": [
  {
   "cell_type": "code",
   "execution_count": 1,
   "id": "a7598b26",
   "metadata": {},
   "outputs": [],
   "source": [
    "\n",
    "        \n",
    "    "
   ]
  },
  {
   "cell_type": "code",
   "execution_count": 17,
   "id": "7f826d01",
   "metadata": {},
   "outputs": [],
   "source": [
    "class node:\n",
    "    # This class is used to create a node\n",
    "    \n",
    "    def __init__(self,data):\n",
    "        self.data = data\n",
    "        self.next = None"
   ]
  },
  {
   "cell_type": "code",
   "execution_count": 2,
   "id": "98f00fa0",
   "metadata": {},
   "outputs": [],
   "source": [
    "n1 = node(5)"
   ]
  },
  {
   "cell_type": "code",
   "execution_count": 3,
   "id": "dea48255",
   "metadata": {},
   "outputs": [],
   "source": [
    "n2 = node(7)"
   ]
  },
  {
   "cell_type": "code",
   "execution_count": 10,
   "id": "f0d2f6ad",
   "metadata": {},
   "outputs": [
    {
     "name": "stdout",
     "output_type": "stream",
     "text": [
      "5\n",
      "None\n",
      "7\n",
      "None\n"
     ]
    }
   ],
   "source": [
    "print(n1.data)\n",
    "print(n1.next)\n",
    "\n",
    "print(n2.data)\n",
    "print(n2.next)"
   ]
  },
  {
   "cell_type": "code",
   "execution_count": 11,
   "id": "93a6d39b",
   "metadata": {},
   "outputs": [],
   "source": [
    "n1.next = n2"
   ]
  },
  {
   "cell_type": "code",
   "execution_count": 16,
   "id": "6687216f",
   "metadata": {},
   "outputs": [
    {
     "name": "stdout",
     "output_type": "stream",
     "text": [
      "<__main__.node object at 0x00000199140C1D30>\n",
      "<__main__.node object at 0x00000199140C1D30>\n",
      "1756977962288\n",
      "1756977962288\n"
     ]
    }
   ],
   "source": [
    "# Both \"n1 ka next\" and \"n2\" are having same address\n",
    "\n",
    "print(n1.next)\n",
    "print(n2)\n",
    "\n",
    "\n",
    "# Also both are having same id\n",
    "print(id(n2))\n",
    "print(id(n1.next))"
   ]
  },
  {
   "cell_type": "code",
   "execution_count": 1,
   "id": "61b22fe4",
   "metadata": {},
   "outputs": [],
   "source": [
    "class node:\n",
    "    # It will create nodes\n",
    "    \n",
    "    def __init__(self,data):\n",
    "        self.data = data\n",
    "        self.next = None\n",
    "        \n",
    "        \n",
    "def take_input():\n",
    "    l = [int(i) for i in input().strip().split()]\n",
    "    head = None   \n",
    "    for i in l:\n",
    "        if i == -1:\n",
    "            break\n",
    "        newNode = node(i)\n",
    "        \n",
    "        if head == None:\n",
    "            head = newNode\n",
    "        else:\n",
    "            a = head\n",
    "            while a.next != None:\n",
    "                a  = a.next\n",
    "            a.next = newNode\n",
    "        \n",
    "    return head\n",
    "            \n",
    "            "
   ]
  },
  {
   "cell_type": "code",
   "execution_count": 6,
   "id": "477011ef",
   "metadata": {},
   "outputs": [
    {
     "name": "stdout",
     "output_type": "stream",
     "text": [
      "1 2 3 -1\n"
     ]
    }
   ],
   "source": [
    "a = take_input()"
   ]
  },
  {
   "cell_type": "code",
   "execution_count": 8,
   "id": "956afcc0",
   "metadata": {},
   "outputs": [
    {
     "name": "stdout",
     "output_type": "stream",
     "text": [
      "<__main__.node object at 0x000001CB13DA0760>\n",
      "1\n",
      "2\n",
      "3\n"
     ]
    }
   ],
   "source": [
    "print(a)\n",
    "print(a.data)\n",
    "print(a.next.data)\n",
    "print(a.next.next.data)"
   ]
  },
  {
   "cell_type": "code",
   "execution_count": null,
   "id": "35323a65",
   "metadata": {},
   "outputs": [],
   "source": []
  }
 ],
 "metadata": {
  "kernelspec": {
   "display_name": "Python 3 (ipykernel)",
   "language": "python",
   "name": "python3"
  },
  "language_info": {
   "codemirror_mode": {
    "name": "ipython",
    "version": 3
   },
   "file_extension": ".py",
   "mimetype": "text/x-python",
   "name": "python",
   "nbconvert_exporter": "python",
   "pygments_lexer": "ipython3",
   "version": "3.9.12"
  }
 },
 "nbformat": 4,
 "nbformat_minor": 5
}
