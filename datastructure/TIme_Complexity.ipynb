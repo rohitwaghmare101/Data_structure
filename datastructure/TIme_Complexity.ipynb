{
 "cells": [
  {
   "cell_type": "markdown",
   "id": "bbd6d951",
   "metadata": {},
   "source": [
    "# Experimental Analysis"
   ]
  },
  {
   "cell_type": "code",
   "execution_count": 33,
   "id": "616205fe",
   "metadata": {},
   "outputs": [],
   "source": [
    "# Merge sort\n",
    "\n",
    "def mergesort(a):\n",
    "    l = len(a)\n",
    "    \n",
    "    if l == 1:\n",
    "        return a[0]\n",
    "    m = a[:l//2] \n",
    "    n = a[l//2:]\n",
    "    \n",
    "    mergesort(m)\n",
    "    mergesort(n)\n",
    "    \n",
    "    sort(m,n,a)"
   ]
  },
  {
   "cell_type": "code",
   "execution_count": 34,
   "id": "75e5f43b",
   "metadata": {},
   "outputs": [],
   "source": [
    "def sort(m,n,a):\n",
    "    lm = len(m)\n",
    "    ln = len(n)\n",
    "    i = 0\n",
    "    j = 0\n",
    "    k = 0\n",
    "    \n",
    "    while i<lm and j<ln:\n",
    "        if m[i] <= n[j]:\n",
    "            a[k] = m[i]\n",
    "            i += 1\n",
    "        else:\n",
    "            a[k] = n[j]\n",
    "            j += 1\n",
    "        k += 1\n",
    "    while i <lm:\n",
    "        a[k] = m[i]\n",
    "        i += 1\n",
    "        k += 1\n",
    "    while j<ln:\n",
    "        a[k] = n[j]\n",
    "        j += 1\n",
    "        \n",
    "        \n",
    "        "
   ]
  },
  {
   "cell_type": "code",
   "execution_count": 66,
   "id": "f4a547b9",
   "metadata": {},
   "outputs": [],
   "source": [
    "def create_list(n):\n",
    "    a = []\n",
    "    for i in range(n,0,-1):\n",
    "        a.append(i)\n",
    "        \n",
    "    return a\n"
   ]
  },
  {
   "cell_type": "code",
   "execution_count": 73,
   "id": "4f307197",
   "metadata": {},
   "outputs": [
    {
     "name": "stdout",
     "output_type": "stream",
     "text": [
      "10000\n",
      "10000\n",
      "<class 'list'>\n",
      "0.05086493492126465\n"
     ]
    }
   ],
   "source": [
    "import time\n",
    "n = int(input())\n",
    "a = create_list(n)\n",
    "\n",
    "start = time.time()\n",
    "mergesort(a)\n",
    "end = time.time()\n",
    "c = end-start\n",
    "print(c)"
   ]
  },
  {
   "cell_type": "code",
   "execution_count": null,
   "id": "34fb8d66",
   "metadata": {},
   "outputs": [],
   "source": []
  },
  {
   "cell_type": "code",
   "execution_count": null,
   "id": "4fab4984",
   "metadata": {},
   "outputs": [],
   "source": []
  }
 ],
 "metadata": {
  "kernelspec": {
   "display_name": "Python 3 (ipykernel)",
   "language": "python",
   "name": "python3"
  },
  "language_info": {
   "codemirror_mode": {
    "name": "ipython",
    "version": 3
   },
   "file_extension": ".py",
   "mimetype": "text/x-python",
   "name": "python",
   "nbconvert_exporter": "python",
   "pygments_lexer": "ipython3",
   "version": "3.9.12"
  }
 },
 "nbformat": 4,
 "nbformat_minor": 5
}
