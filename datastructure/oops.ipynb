{
 "cells": [
  {
   "cell_type": "code",
   "execution_count": 23,
   "id": "324e1c97",
   "metadata": {},
   "outputs": [],
   "source": [
    "class school:\n",
    "  def __init__(self,s_name,field,area):\n",
    "    self.s_name = s_name\n",
    "    self.__field = field\n",
    "    self.__area = area\n",
    "    \n",
    "  def __get_schoolname(self):\n",
    "    print(\"my school name is \",self.s_name,\" it is a private data\")\n",
    "\n",
    "class student(school):\n",
    "  def __init__(self,s_name,field,area,stud_name,batch,address):\n",
    "    school.s_name = s_name\n",
    "    school.__field = field\n",
    "    school.__area = area\n",
    "    self.stud_name = stud_name\n",
    "    self.batch = batch\n",
    "    self.__address = address\n",
    "\n",
    "  def get_parent_attribute(self):\n",
    "    print(school.s_name, school.__field,school.__area)\n",
    "\n",
    "  def get_parent_method(self):\n",
    "    self._school.__get_schoolname()\n",
    "  "
   ]
  },
  {
   "cell_type": "code",
   "execution_count": 24,
   "id": "0d6fb24b",
   "metadata": {},
   "outputs": [],
   "source": [
    "s1 = student(\"national\",\"school\",\"chembur\",\"rohit\",\"2016\",\"chembur\")"
   ]
  },
  {
   "cell_type": "code",
   "execution_count": 25,
   "id": "3ed30d87",
   "metadata": {},
   "outputs": [
    {
     "name": "stdout",
     "output_type": "stream",
     "text": [
      "national school chembur\n"
     ]
    }
   ],
   "source": [
    "s1.get_parent_attribute()\n"
   ]
  },
  {
   "cell_type": "code",
   "execution_count": 26,
   "id": "6d1a08f2",
   "metadata": {},
   "outputs": [
    {
     "ename": "AttributeError",
     "evalue": "'student' object has no attribute '_school'",
     "output_type": "error",
     "traceback": [
      "\u001b[1;31m---------------------------------------------------------------------------\u001b[0m",
      "\u001b[1;31mAttributeError\u001b[0m                            Traceback (most recent call last)",
      "Input \u001b[1;32mIn [26]\u001b[0m, in \u001b[0;36m<cell line: 1>\u001b[1;34m()\u001b[0m\n\u001b[1;32m----> 1\u001b[0m \u001b[43ms1\u001b[49m\u001b[38;5;241;43m.\u001b[39;49m\u001b[43mget_parent_method\u001b[49m\u001b[43m(\u001b[49m\u001b[43m)\u001b[49m\n",
      "Input \u001b[1;32mIn [23]\u001b[0m, in \u001b[0;36mstudent.get_parent_method\u001b[1;34m(self)\u001b[0m\n\u001b[0;32m     22\u001b[0m \u001b[38;5;28;01mdef\u001b[39;00m \u001b[38;5;21mget_parent_method\u001b[39m(\u001b[38;5;28mself\u001b[39m):\n\u001b[1;32m---> 23\u001b[0m   \u001b[38;5;28;43mself\u001b[39;49m\u001b[38;5;241;43m.\u001b[39;49m\u001b[43m_school\u001b[49m\u001b[38;5;241m.\u001b[39m__get_schoolname()\n",
      "\u001b[1;31mAttributeError\u001b[0m: 'student' object has no attribute '_school'"
     ]
    }
   ],
   "source": [
    "s1.get_parent_method()"
   ]
  },
  {
   "cell_type": "code",
   "execution_count": null,
   "id": "ba32fea7",
   "metadata": {},
   "outputs": [],
   "source": []
  }
 ],
 "metadata": {
  "kernelspec": {
   "display_name": "Python 3 (ipykernel)",
   "language": "python",
   "name": "python3"
  },
  "language_info": {
   "codemirror_mode": {
    "name": "ipython",
    "version": 3
   },
   "file_extension": ".py",
   "mimetype": "text/x-python",
   "name": "python",
   "nbconvert_exporter": "python",
   "pygments_lexer": "ipython3",
   "version": "3.9.12"
  }
 },
 "nbformat": 4,
 "nbformat_minor": 5
}
