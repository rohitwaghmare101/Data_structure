{
 "cells": [
  {
   "cell_type": "code",
   "execution_count": null,
   "metadata": {
    "id": "ZLOQt1WG2rWz"
   },
   "outputs": [],
   "source": [
    "def fact(n):\n",
    "  if n == 1:\n",
    "    return 1\n",
    "  return n*fact(n-1)"
   ]
  },
  {
   "cell_type": "code",
   "execution_count": null,
   "metadata": {
    "colab": {
     "base_uri": "https://localhost:8080/"
    },
    "id": "AZPFIej027ZD",
    "outputId": "1f976428-fec8-45d5-ea06-b6271b2e54d8"
   },
   "outputs": [
    {
     "data": {
      "text/plain": [
       "924002417955514722391886310307239205922680975171251912562301898963758266621358032226491129310223361565413573685956691415824944601941712251575551420168331547478941219949197675945331025612655422995913636459677783593236021560097194855415811135314220273670102878406295567614177742094459609046309977387284281713280305776852981199280831026676871614133819770548041504417130897387865337826818306472896505771916673008305217039159703124236019763487814435190214913250020078618167143854471948888893486876908128961746535442902348480374932008013867619199726745793886940944640644065561529555599806949102904020260122655526331093839308428918296505402432836595799876547422965397796801848856369839851552275242777546699757348229485544204548024290027692690684333943129003580222441307092264187669297258837951006152726480085062945417781995938654760344168925557347624200446690147157039886055897702616073414960719259860454671496872004612279383076342147610490308516870325071281879678355523979130817267897362249176075253112286759439615719731768149493619099151552053908815473813557119184937398174838261905778572418799151206663266235695742713006665831384389959806883137464143135669182632003724749410249532277466859020230847242779680287261101645704220793439542037371346095592970429778325016508072355503103376720433775206570142590526601628909703101823784270585861874681636262634380765388814292307661765342087147521862624329471947889438115351587018186205361345353582362782881160608853535257239358143570440191455347625023880954821427221406879047391304155000094513808195226538711683126366697329734991532015196804493725453426511998731528440813670830883517786722474992609716427204561446441440746501081499230983370593337548074016002589108719242754440721787436289352192991116992596859056089682308373715945406447122639389968192148945627006894268247792009723846464824327646474788647441926456348764037319286568175174766442326698812894499920335324684398335677917255774453612659432358589388303926004631919084276059087187859783383166933259166539381179321365331653014039595003050732268915225684375980839576068171626707011395729654725730918147016025046134399965692817990056787725800674286846596016265463676044661941507221097975689167241049476584561442816000000000000000000000000000000000000000000000000000000000000000000000000000000000000000000000000000000000000000000000000000000000000000000000000000000000000000000000000000000000000000000000000000000000000000000000000000000000000000000000"
      ]
     },
     "execution_count": 7,
     "metadata": {},
     "output_type": "execute_result"
    }
   ],
   "source": [
    "fact(959)"
   ]
  },
  {
   "cell_type": "code",
   "execution_count": null,
   "metadata": {
    "id": "T4qX05BG3AbC"
   },
   "outputs": [],
   "source": [
    "import sys\n",
    "sys.setrecursionlimit(2000)"
   ]
  },
  {
   "cell_type": "code",
   "execution_count": null,
   "metadata": {
    "colab": {
     "base_uri": "https://localhost:8080/"
    },
    "id": "nSZd7fj_3awm",
    "outputId": "514348d4-74a8-4bf6-d881-b702d5b7c48a"
   },
   "outputs": [
    {
     "data": {
      "text/plain": [
       "887042321237294133496210857894949637685773736164401836059809823005207935956503710937431484137814427102797030738518423759191946817864043761512529363361598285579783571151229768907517784588149206076077091001290672249506580697693307061199178689901651462723298763270043744909610632410681224684457578291792910444749093545778861951309597785609796749568466979726119844240445661492350724313745574213980645541040006087973008357593314999266578972948301857782606316720019275473440458100293070933337747401831803803276674025186254541159934727693312914431737675962131463306855018302939068373375814671138787859449717749305277850085736091761564645186335523131967881485526046781884929774902115046257490184233066444831767054300306122436366103318426584983056960585403843437013543654808573620162525368484432965906617420881660427601070716101108569930402168535053719232428822541270758290613661794511430478362290489466036484636997124427788207753288461706070696176195512068430604491221303019965584577181467759209032242987795289062031090942497423513874335185489971752462854861014834417539902247844731429547429522047185158396735586267913004486399198129014361414607811965577410242415326723575759433839550986368184659421613353068493075770657579876051961701960355876492251769251612587192015847749461282979241651616424198307336886905537563753314977750832899762427399694370812129005534773261720615355294728403661620988119356293069973860590737523537458757146891539439068271565914184499393846949783817827622583797133720022925716628570132550603885495651988800090733255867417477163215801312029436545591870734588932313976435289451518782267303181123997648177075253575992905327770116378988583783116641038239261744035769604046151055362485544370473044263092915938837778105271472312892984693846095016038767307590189237733814369464462987801926618497517880329334892606231354540615797101544249398094813475826515105448167775784633630860378719923521911697022402250800565543475468153055064245812771768964446642320905016723700345392047840255928799877805932148510718386893478011202928702978158616657000941605993025444761638730939900468536701681421135384044289023967065105270454516216768647315372732175614845129002875463846932254056661600551407497521178985103360000000000000000000000000000000000000000000000000000000000000000000000000000000000000000000000000000000000000000000000000000000000000000000000000000000000000000000000000000000000000000000000000000000000000000000000000000000000000000000000"
      ]
     },
     "execution_count": 12,
     "metadata": {},
     "output_type": "execute_result"
    }
   ],
   "source": [
    "fact(960)"
   ]
  },
  {
   "cell_type": "code",
   "execution_count": null,
   "metadata": {
    "id": "LPPf684Y3dav"
   },
   "outputs": [],
   "source": [
    "def isSorted(a):\n",
    "  l = len(a)\n",
    "  if l == 0 or l == 1:\n",
    "    return True\n",
    "  if a[0] > a[1]:\n",
    "    return False\n",
    "  smallerList = a[1:]\n",
    "  isSmallerListSorted = isSorted(smallerList)\n",
    "  return isSmallerListSorted"
   ]
  },
  {
   "cell_type": "code",
   "execution_count": null,
   "metadata": {
    "colab": {
     "base_uri": "https://localhost:8080/"
    },
    "id": "w2uVjXhq0MRn",
    "outputId": "555e1745-4d1d-470b-a329-67c710c6b62f"
   },
   "outputs": [
    {
     "data": {
      "text/plain": [
       "True"
      ]
     },
     "execution_count": 2,
     "metadata": {},
     "output_type": "execute_result"
    }
   ],
   "source": [
    "a = [1,2,3,4,5]\n",
    "isSorted(a)"
   ]
  },
  {
   "cell_type": "code",
   "execution_count": null,
   "metadata": {
    "id": "ldDwegG50TGO"
   },
   "outputs": [],
   "source": [
    "def isSortedBetter(arr, si):\n",
    "  l = len(arr)\n",
    "  if si == l-1 or si == l:\n",
    "    return True\n",
    "  if arr[si] > arr[si + 1]:\n",
    "    return False\n",
    "  checksmallarray = isSortedBetter(arr, si + 1)\n",
    "  return checksmallarray"
   ]
  },
  {
   "cell_type": "code",
   "execution_count": null,
   "metadata": {
    "colab": {
     "base_uri": "https://localhost:8080/"
    },
    "id": "dFuF6EgoDGfV",
    "outputId": "d51edb40-fbe5-4b35-cbaa-6cdfae8e3ffd"
   },
   "outputs": [
    {
     "data": {
      "text/plain": [
       "False"
      ]
     },
     "execution_count": 3,
     "metadata": {},
     "output_type": "execute_result"
    }
   ],
   "source": [
    "arr = [1,2,3,24,5]\n",
    "isSortedBetter(arr , 0)"
   ]
  },
  {
   "cell_type": "code",
   "execution_count": null,
   "metadata": {
    "colab": {
     "base_uri": "https://localhost:8080/"
    },
    "id": "ZLM1jMgdDXbC",
    "outputId": "c1704412-898a-4e2e-d254-bcca55a05b7f"
   },
   "outputs": [
    {
     "name": "stdout",
     "output_type": "stream",
     "text": [
      "7\n",
      "2 3 4 5 6 7 8\n",
      "1\n",
      "false\n"
     ]
    }
   ],
   "source": [
    "def checkNumber(arr,x, si):\n",
    "  l = len(arr)\n",
    "  if si == l-1 or si == l :\n",
    "    if arr[si] == x:\n",
    "      return True\n",
    "    else:\n",
    "        return False\n",
    "  if arr[si] == x:\n",
    "    return True\n",
    "  mid = checkNumber(arr,x,si+1)\n",
    "  return mid\n",
    "\n",
    "    \n",
    "\n",
    "# Main\n",
    "from sys import setrecursionlimit\n",
    "setrecursionlimit(11000)\n",
    "n=int(input())\n",
    "arr=list(int(i) for i in input().strip().split(' '))\n",
    "x=int(input())\n",
    "if checkNumber(arr, x,0):\n",
    "    print('true')\n",
    "else:\n",
    "    print('false')\n"
   ]
  },
  {
   "cell_type": "code",
   "execution_count": null,
   "metadata": {
    "colab": {
     "base_uri": "https://localhost:8080/"
    },
    "id": "lsECf0pxaj4J",
    "outputId": "7de0f922-5562-430b-f602-76e43c9d8a44"
   },
   "outputs": [
    {
     "name": "stdout",
     "output_type": "stream",
     "text": [
      "5\n",
      "1 2 3 4 5\n",
      "6\n",
      "-1\n"
     ]
    }
   ],
   "source": [
    "def lastIndex(arr,x,si):\n",
    "    l = len(arr)\n",
    "    if (si == l-1 or si == l):\n",
    "        if arr[si] != x:\n",
    "            return -1\n",
    "        else:\n",
    "            return si\n",
    "    midans = lastIndex(arr,x,si+1)\n",
    "    if midans == -1:\n",
    "        if arr[si] == x:\n",
    "            return si\n",
    "        else:\n",
    "          return -1\n",
    "    else:\n",
    "        return midans\n",
    "        \n",
    "    \n",
    "\n",
    "n = int(input())\n",
    "arr = [int(i) for i in input().strip().split()]\n",
    "x = int(input())\n",
    "\n",
    "a = lastIndex(arr,x,si = 0)\n",
    "print(a)"
   ]
  },
  {
   "cell_type": "markdown",
   "metadata": {
    "id": "FbHo_3_np96e"
   },
   "source": [
    "**recursion on string**\n"
   ]
  },
  {
   "cell_type": "code",
   "execution_count": null,
   "metadata": {
    "id": "O6bQFX4zqEMz"
   },
   "outputs": [],
   "source": [
    "# replace a by b for the input string using recursion\n",
    "\n",
    "def replaceString(s,a,b):\n",
    "  l = len(s)\n",
    "  if l == 0:\n",
    "    return s\n",
    "  midoutput = replaceString(s[1:],a,b)\n",
    "  if s[0] == a:\n",
    "    return b + midoutput\n",
    "  else:\n",
    "    return s[0] + midoutput\n",
    "\n",
    "def replaceString1(s,a,b):\n",
    "  l = len(s)\n",
    "  if l == 0:\n",
    "    return s\n",
    "  midoutput = replaceString1(s[1:],a,b)\n",
    "  if s[0] == a[0] and s[1] == a[1]:\n",
    "    return b + midoutput\n",
    "  if s[0] == 'i':\n",
    "    return midoutput\n",
    "  else:\n",
    "    return s[0] + midoutput"
   ]
  },
  {
   "cell_type": "code",
   "execution_count": null,
   "metadata": {
    "colab": {
     "base_uri": "https://localhost:8080/",
     "height": 36
    },
    "id": "KhsqjFA5qsbF",
    "outputId": "47c737c6-1083-4408-b65e-37b56f19ef10"
   },
   "outputs": [
    {
     "data": {
      "application/vnd.google.colaboratory.intrinsic+json": {
       "type": "string"
      },
      "text/plain": [
       "'a+3.14+b+3.14+c'"
      ]
     },
     "execution_count": 17,
     "metadata": {},
     "output_type": "execute_result"
    }
   ],
   "source": [
    "replaceString1(\"a+pi+b+pi+c\",'pi','3.14')"
   ]
  },
  {
   "cell_type": "code",
   "execution_count": null,
   "metadata": {
    "id": "c0QL2u0Gq5Bi"
   },
   "outputs": [],
   "source": [
    "def replacePi(string):\n",
    "  l = len(string)\n",
    "  if l == 0 or l == 1:   # because to form word 'pi' 2 characters are required\n",
    "    return string\n",
    "  if string[0]=='p' and string[1]=='i':\n",
    "    return '3.14' + replacePi(string[2:])  # removing 2 characters and adding 3.14\n",
    "  else:\n",
    "    return string[0] + replacePi(string[1:]) # not removing any character\n",
    "  "
   ]
  },
  {
   "cell_type": "code",
   "execution_count": null,
   "metadata": {
    "colab": {
     "base_uri": "https://localhost:8080/",
     "height": 36
    },
    "id": "90P75bcZxGm9",
    "outputId": "4f91f25a-0e04-4e34-d3f0-8ec5f239aa02"
   },
   "outputs": [
    {
     "data": {
      "application/vnd.google.colaboratory.intrinsic+json": {
       "type": "string"
      },
      "text/plain": [
       "'a+3.14+b+3.14+c+p'"
      ]
     },
     "execution_count": 20,
     "metadata": {},
     "output_type": "execute_result"
    }
   ],
   "source": [
    "replacePi(\"a+pi+b+pi+c+p\")"
   ]
  },
  {
   "cell_type": "code",
   "execution_count": null,
   "metadata": {
    "id": "8bJVBp6BxKrZ"
   },
   "outputs": [],
   "source": [
    "def binarySort(arr, x,si ,ei):\n",
    "  if si > ei:\n",
    "    return -1\n",
    "  mid = (si + ei)//2\n",
    "  if arr[mid] == x:\n",
    "    return mid\n",
    "  elif arr[mid] > x:\n",
    "    return binarySort(arr,x,si,mid - 1)\n",
    "  else:\n",
    "    return binarySort(arr,x,mid + 1,ei)\n",
    "    \n",
    "  "
   ]
  },
  {
   "cell_type": "code",
   "execution_count": null,
   "metadata": {
    "colab": {
     "base_uri": "https://localhost:8080/"
    },
    "id": "HFqI-MkbuMOm",
    "outputId": "36d1558e-5d59-442f-c368-ad9b497bb221"
   },
   "outputs": [
    {
     "data": {
      "text/plain": [
       "4"
      ]
     },
     "execution_count": 5,
     "metadata": {},
     "output_type": "execute_result"
    }
   ],
   "source": [
    "binarySort((1,3,4,6,7,9,12,46,50), 7,0,8)"
   ]
  },
  {
   "cell_type": "code",
   "execution_count": null,
   "metadata": {
    "id": "k_1m-nwPuZv6"
   },
   "outputs": [],
   "source": [
    "def merge(s1,s2,l):\n",
    "    n1 = len(s1)\n",
    "    n2 = len(s2)\n",
    "    i = 0\n",
    "    j = 0\n",
    "    k = 0\n",
    "    while i<n1 and j<n2 :\n",
    "        if s1[i] < s2[j]:\n",
    "            l[k] = s1[i]\n",
    "            i += 1\n",
    "            \n",
    "        else:\n",
    "            l[k] = s2[j]\n",
    "            j += 1\n",
    "        k += 1\n",
    "        \n",
    "    while i<n1:\n",
    "        l[k] = s1[i]\n",
    "        i += 1\n",
    "        k += 1\n",
    "    while j < n2:\n",
    "        l[k] = s2[j]\n",
    "        j += 1\n",
    "        k += 1\n",
    "        "
   ]
  },
  {
   "cell_type": "code",
   "execution_count": null,
   "metadata": {
    "id": "D5EYuCfbnPm4"
   },
   "outputs": [],
   "source": [
    "s1 = [1,3,5,7,9]\n",
    "s2 = [2,4,6,8,10]"
   ]
  },
  {
   "cell_type": "code",
   "execution_count": null,
   "metadata": {
    "id": "HlNR7CF_naFY"
   },
   "outputs": [],
   "source": [
    "l = [52,63,74,56,89,52,41,63,54,26]"
   ]
  },
  {
   "cell_type": "code",
   "execution_count": null,
   "metadata": {
    "id": "vAS47NVLnbmd"
   },
   "outputs": [],
   "source": [
    "merge(s1,s2,l)"
   ]
  },
  {
   "cell_type": "code",
   "execution_count": null,
   "metadata": {
    "colab": {
     "base_uri": "https://localhost:8080/"
    },
    "id": "x9Z-xoU4nfwP",
    "outputId": "2961aaed-332c-4f0c-aa09-6e12c32ef9bf"
   },
   "outputs": [
    {
     "data": {
      "text/plain": [
       "[1, 2, 3, 4, 5, 6, 7, 8, 9, 10]"
      ]
     },
     "execution_count": 7,
     "metadata": {},
     "output_type": "execute_result"
    }
   ],
   "source": [
    "l"
   ]
  },
  {
   "cell_type": "code",
   "execution_count": null,
   "metadata": {
    "id": "PMPWkzf9nomN"
   },
   "outputs": [],
   "source": [
    "# def merge_sort(a):\n",
    "#   if len(a) == 0 or len(a) == 1:\n",
    "#     return\n",
    "#   mid = len(a)//2\n",
    "#   a1 = a[0:mid]\n",
    "#   a2 = a[mid: ]\n",
    "\n",
    "#   merge_sort(a1)\n",
    "#   merge_sort(a2)\n",
    "\n",
    "#   merge(a1,a2,a)"
   ]
  },
  {
   "cell_type": "code",
   "execution_count": null,
   "metadata": {
    "id": "UKIA8M4fsB6H"
   },
   "outputs": [],
   "source": []
  },
  {
   "cell_type": "code",
   "execution_count": null,
   "metadata": {
    "colab": {
     "base_uri": "https://localhost:8080/"
    },
    "id": "bnxMHuN_sID1",
    "outputId": "398cee87-3eda-49a6-dabe-72dbd4621f98"
   },
   "outputs": [
    {
     "data": {
      "text/plain": [
       "[1, 3, 4, 5, 7, 9, 10]"
      ]
     },
     "execution_count": 12,
     "metadata": {},
     "output_type": "execute_result"
    }
   ],
   "source": [
    "a"
   ]
  },
  {
   "cell_type": "code",
   "execution_count": null,
   "metadata": {
    "id": "hVlYAdMVsPmU"
   },
   "outputs": [],
   "source": [
    "def mergeSort(arr):\n",
    "    l = len(arr)\n",
    "    if l == 1 or l==0:\n",
    "        return \n",
    "    mid = (l)//2\n",
    "    s1 = arr[0:mid]\n",
    "    s2 = arr[mid:]\n",
    "    mergeSort(s1)\n",
    "    mergeSort(s2)\n",
    "    merge(s1,s2,arr)"
   ]
  },
  {
   "cell_type": "code",
   "execution_count": null,
   "metadata": {
    "id": "NlnxTIycsvla"
   },
   "outputs": [],
   "source": [
    "a = [10,5,3,1,7,9,4]\n",
    "mergeSort(a)"
   ]
  },
  {
   "cell_type": "code",
   "execution_count": null,
   "metadata": {
    "colab": {
     "base_uri": "https://localhost:8080/"
    },
    "id": "DnQK8VJ-s-_E",
    "outputId": "4294da15-70ad-41ac-d670-a5a4b8e6f27b"
   },
   "outputs": [
    {
     "name": "stdout",
     "output_type": "stream",
     "text": [
      "919\n",
      "4325 3416 1061 4007 4217 3298 4250 1636 1107 4118 1632 1230 2571 1352 3407 1874 4381 3429 4094 1334 451 2698 986 732 3170 866 4364 1034 960 539 3692 3656 4579 3520 1564 49 297 3871 4215 3457 1830 4332 3995 183 3594 3595 336 2581 628 4109 1367 1726 314 527 3544 4123 2857 2667 1343 4123 1314 3844 3333 1707 2875 770 4703 4139 988 4746 4632 4563 2892 779 4716 1006 4078 1372 2061 414 205 156 2511 4258 3073 2259 950 8 275 3258 1542 1231 3291 1871 1312 3392 914 3049 435 2458 4041 2989 2217 4292 4086 678 4800 4421 491 1996 246 176 3057 2044 4827 397 2120 4342 1988 1862 3924 1786 1719 1348 4876 3721 1744 2763 1763 1355 2287 106 436 4753 1905 4113 2893 4058 2278 3297 2178 195 4677 3784 1031 1260 236 1754 3753 4982 105 2530 1319 143 4984 1367 2390 610 1582 2753 2492 4668 1022 2614 304 4673 1291 1159 3689 2684 2430 3223 3838 1568 4255 2872 3647 3310 2065 4717 1228 1660 965 883 1310 17 4150 4780 1100 2451 4743 908 3074 1072 4538 3699 99 1523 1315 3021 3196 246 4249 4332 4269 2300 4256 2640 113 1948 3075 1337 55 4911 1270 4740 2669 1203 1325 1626 2076 692 2484 1362 1518 122 4028 4277 1024 107 3206 3786 2191 3783 3168 4369 1344 126 4827 1961 2589 4681 4745 1458 4547 3350 3821 30 3913 1156 3756 4686 306 2406 29 3062 267 1459 1391 2720 3701 4414 1664 1330 3454 1366 23 3013 3254 1539 735 4732 710 4505 2803 1106 616 4939 3829 1209 4389 798 924 1931 4053 623 4443 4254 3837 4683 2881 1361 4094 2015 4304 853 976 1031 1277 2449 988 254 2376 2473 2346 2902 4011 2115 4823 4520 1484 2921 1596 1570 2892 217 467 920 3760 3199 2706 468 4023 4259 685 4714 2341 4674 414 955 489 4190 2071 1919 3016 3185 621 4079 4193 3019 4673 2584 761 2918 4771 3744 4895 230 2445 4258 2357 161 3463 2931 766 1207 2892 446 2530 3268 791 889 1032 2146 549 79 2299 1449 2182 466 2523 1181 168 297 4490 1222 4715 973 3186 2684 1742 1068 2582 628 191 3248 1887 2983 746 1426 353 2558 2454 4840 64 1948 3225 3384 997 4781 1713 4457 2051 1178 1598 775 669 540 4870 1098 2134 769 3327 1586 2630 4793 2114 4528 2656 2871 812 3552 4461 2452 1275 1 3749 1516 2141 4057 2008 1231 2700 1402 1490 4435 3594 1607 21 2932 3653 3208 2563 3843 1002 2444 666 3278 2488 2924 4736 4409 3360 2050 2358 1637 4107 1928 3723 2884 3319 2597 2609 3239 4452 3852 3245 108 425 3631 4816 2720 3030 937 1353 2382 4253 4506 203 4115 3740 8 2345 405 794 3374 2343 3618 490 977 4819 268 1741 3751 2957 2736 365 2050 2696 2219 2544 958 3929 662 3350 2030 2280 4174 1367 1952 1730 972 3863 1382 4661 3190 2316 3359 1696 4004 600 4979 4030 4390 2586 3719 840 2497 2437 678 3733 3040 4388 2244 4155 4357 4419 4140 3114 1766 3789 2615 585 2632 4056 1553 4479 1133 4858 1616 1117 4054 4456 3175 737 3049 3719 3616 2677 3744 2040 1846 534 2724 3422 3218 2772 4919 2834 1887 3959 1163 1735 4575 1081 3718 2613 46 3120 1395 248 2185 417 463 2376 1393 3170 2937 4421 4190 770 4994 1929 4337 601 191 444 456 1356 4886 559 167 1854 1767 1047 3984 1884 1671 70 3776 1585 3939 3635 433 453 1404 1679 3481 1136 2720 375 1776 1804 2171 4516 4101 4040 264 1124 1402 844 2387 4754 3701 1614 2583 1311 4165 2637 4981 593 663 2966 1790 3163 1201 1317 3816 4636 3987 4980 2350 4907 515 1601 4949 1383 996 4091 2046 3811 646 2845 1557 3856 2846 2923 4656 211 941 1837 2659 4620 4503 1102 2543 895 3208 1778 1948 2682 2090 814 3643 1464 808 1116 4360 4046 1783 3917 3562 3571 2447 2206 4204 4908 648 3684 4775 4143 4223 963 4970 2752 1082 485 1121 4979 4698 4966 2143 1862 1779 1980 2094 2354 4038 3691 1643 979 4370 4630 2638 2495 4508 825 2720 2135 1148 4609 414 73 851 4846 406 899 551 2418 3785 3081 337 313 3884 4539 3288 1771 4957 3730 3522 3557 3353 871 3301 4575 4033 1238 2999 2716 4249 1778 3940 67 931 3649 3676 3302 3917 1664 1036 2422 3391 2049 4368 1740 2080 2350 771 2403 555 1825 1729 582 2703 2153 1504 4863 2830 1824 3832 319 1101 3168 4972 175 14 3560 1901 4003 1386 1992 3513 3894 904 3841 5 2098 609 404 1235 234 3863 438 3742 1273 2178 3755 3281 1155 4061 1688 188 2065 2418 1058 3607 4146 4374 2150 2663 1605 359 2056 2922 3013 3148 2696 87 3853 2106 2744 4723 2231 3319 4669 1965 1030 2379 2130 3553 1688 3598 3978 1286 1191 2088 4204 924 4884 3697 2271 3876 3125 2020 402 538 4899 1822 3557 3973 1028 4003 4044 742 3693 3903 904 2090 2643 2130 4515 3352 1564 282 4100 2415 802 2911 189 4277 4826 1837 402 3312 4564 4420 340 2586 1019 3758 1744 695 2388 819 2566 943 2220 1454 3051 306 1044 4829 3453 1565 3280 4309 2520 1199 184 \n"
     ]
    }
   ],
   "source": [
    "n=int(input())\n",
    "arr=list(int(i) for i in input().strip().split(' '))\n",
    "mergeSort(arr)"
   ]
  },
  {
   "cell_type": "code",
   "execution_count": null,
   "metadata": {
    "colab": {
     "base_uri": "https://localhost:8080/"
    },
    "id": "9_fmgnehter2",
    "outputId": "0a015e00-901c-43ea-924a-795531a75f3e"
   },
   "outputs": [
    {
     "name": "stdout",
     "output_type": "stream",
     "text": [
      "6\n",
      "12 2 16 3 14 4\n",
      "2 3 12 14 4 16\n"
     ]
    }
   ],
   "source": [
    "def merge(s1,s2,l):\n",
    "    n1 = len(s1)\n",
    "    n2 = len(s2)\n",
    "    i = 0\n",
    "    j = 0\n",
    "    k = 0\n",
    "    while i<n1 and j<n2 :\n",
    "        if s1[i] < s2[j]:\n",
    "            l[k] = s1[i]\n",
    "            i += 1\n",
    "            \n",
    "        else:\n",
    "            l[k] = s2[j]\n",
    "            j += 1\n",
    "        k += 1\n",
    "        \n",
    "    while i<n1:\n",
    "        l[k] = s1[i]\n",
    "        i += 1\n",
    "        k += 1\n",
    "    while j < n2:\n",
    "        l[k] = s2[j]\n",
    "        j += 1\n",
    "        k += 1\n",
    "        \n",
    "# -----------------------------type 1 without start and end index\n",
    "# def mergeSort(arr):\n",
    "#     l = len(arr)\n",
    "#     if l == 1 or l==0:\n",
    "#         return \n",
    "#     mid = (l)//2\n",
    "#     s1 = arr[0:mid]\n",
    "#     s2 = arr[mid:]\n",
    "#     mergeSort(s1)\n",
    "#     mergeSort(s2)\n",
    "#     merge(s1,s2,arr)\n",
    "\n",
    "# # Main\n",
    "# n=int(input())\n",
    "# arr=list(int(i) for i in input().strip().split(' '))\n",
    "# mergeSort(arr)\n",
    "# print(*arr)\n",
    "\n",
    "# ------------------------------------Type 2 using start and end index \n",
    "def mergeSort1(arr,si,ei):\n",
    "    if si>ei or si==ei:\n",
    "        return \n",
    "    mid = (si + ei)//2       #interger division kiya hai using // and not using / float division\n",
    "    s1 = arr[si:mid+1]\n",
    "    s2 = arr[mid+1:]\n",
    "    mergeSort1(s1,si,mid)\n",
    "    mergeSort1(s2,mid+1,ei)\n",
    "    \n",
    "    merge(s1,s2,arr)\n",
    "    \n",
    "# Main\n",
    "n=int(input())\n",
    "arr=list(int(i) for i in input().strip().split(' '))\n",
    "mergeSort1(arr,0,n-1)\n",
    "print(*arr)\n",
    "    \n",
    "    \n"
   ]
  },
  {
   "cell_type": "markdown",
   "metadata": {
    "id": "0hOj9-HdzGAu"
   },
   "source": [
    "# **assignment 1**"
   ]
  },
  {
   "cell_type": "code",
   "execution_count": null,
   "metadata": {
    "colab": {
     "base_uri": "https://localhost:8080/",
     "height": 363
    },
    "id": "BKz-nhObzQsp",
    "outputId": "19e3ccd7-6d73-43da-971e-d4c878a948a3"
   },
   "outputs": [
    {
     "name": "stdout",
     "output_type": "stream",
     "text": [
      "12345\n"
     ]
    },
    {
     "ename": "TypeError",
     "evalue": "ignored",
     "output_type": "error",
     "traceback": [
      "\u001b[0;31m---------------------------------------------------------------------------\u001b[0m",
      "\u001b[0;31mTypeError\u001b[0m                                 Traceback (most recent call last)",
      "\u001b[0;32m<ipython-input-1-4b463df49dfc>\u001b[0m in \u001b[0;36m<module>\u001b[0;34m\u001b[0m\n\u001b[1;32m     20\u001b[0m \u001b[0ma\u001b[0m \u001b[0;34m=\u001b[0m \u001b[0mlist\u001b[0m\u001b[0;34m(\u001b[0m\u001b[0mint\u001b[0m\u001b[0;34m(\u001b[0m\u001b[0mi\u001b[0m\u001b[0;34m)\u001b[0m \u001b[0;32mfor\u001b[0m \u001b[0mi\u001b[0m \u001b[0;32min\u001b[0m \u001b[0minput\u001b[0m\u001b[0;34m(\u001b[0m\u001b[0;34m)\u001b[0m\u001b[0;34m)\u001b[0m\u001b[0;34m\u001b[0m\u001b[0;34m\u001b[0m\u001b[0m\n\u001b[1;32m     21\u001b[0m \u001b[0;34m\u001b[0m\u001b[0m\n\u001b[0;32m---> 22\u001b[0;31m \u001b[0msum_digits\u001b[0m\u001b[0;34m(\u001b[0m\u001b[0ma\u001b[0m\u001b[0;34m)\u001b[0m\u001b[0;34m\u001b[0m\u001b[0;34m\u001b[0m\u001b[0m\n\u001b[0m",
      "\u001b[0;32m<ipython-input-1-4b463df49dfc>\u001b[0m in \u001b[0;36msum_digits\u001b[0;34m(a)\u001b[0m\n\u001b[1;32m      8\u001b[0m         \u001b[0;32mreturn\u001b[0m \u001b[0ma\u001b[0m\u001b[0;34m\u001b[0m\u001b[0;34m\u001b[0m\u001b[0m\n\u001b[1;32m      9\u001b[0m     \u001b[0msmallList\u001b[0m \u001b[0;34m=\u001b[0m \u001b[0ma\u001b[0m\u001b[0;34m[\u001b[0m\u001b[0;36m1\u001b[0m\u001b[0;34m:\u001b[0m\u001b[0;34m]\u001b[0m\u001b[0;34m\u001b[0m\u001b[0;34m\u001b[0m\u001b[0m\n\u001b[0;32m---> 10\u001b[0;31m     \u001b[0msmallOutput\u001b[0m \u001b[0;34m=\u001b[0m \u001b[0msum_digits\u001b[0m\u001b[0;34m(\u001b[0m\u001b[0msmallList\u001b[0m\u001b[0;34m)\u001b[0m\u001b[0;34m\u001b[0m\u001b[0;34m\u001b[0m\u001b[0m\n\u001b[0m\u001b[1;32m     11\u001b[0m     \u001b[0;32mreturn\u001b[0m \u001b[0ma\u001b[0m\u001b[0;34m[\u001b[0m\u001b[0;36m0\u001b[0m\u001b[0;34m]\u001b[0m \u001b[0;34m+\u001b[0m \u001b[0mint\u001b[0m\u001b[0;34m(\u001b[0m\u001b[0msmallOutput\u001b[0m\u001b[0;34m)\u001b[0m\u001b[0;34m\u001b[0m\u001b[0;34m\u001b[0m\u001b[0m\n\u001b[1;32m     12\u001b[0m \u001b[0;34m\u001b[0m\u001b[0m\n",
      "\u001b[0;32m<ipython-input-1-4b463df49dfc>\u001b[0m in \u001b[0;36msum_digits\u001b[0;34m(a)\u001b[0m\n\u001b[1;32m      8\u001b[0m         \u001b[0;32mreturn\u001b[0m \u001b[0ma\u001b[0m\u001b[0;34m\u001b[0m\u001b[0;34m\u001b[0m\u001b[0m\n\u001b[1;32m      9\u001b[0m     \u001b[0msmallList\u001b[0m \u001b[0;34m=\u001b[0m \u001b[0ma\u001b[0m\u001b[0;34m[\u001b[0m\u001b[0;36m1\u001b[0m\u001b[0;34m:\u001b[0m\u001b[0;34m]\u001b[0m\u001b[0;34m\u001b[0m\u001b[0;34m\u001b[0m\u001b[0m\n\u001b[0;32m---> 10\u001b[0;31m     \u001b[0msmallOutput\u001b[0m \u001b[0;34m=\u001b[0m \u001b[0msum_digits\u001b[0m\u001b[0;34m(\u001b[0m\u001b[0msmallList\u001b[0m\u001b[0;34m)\u001b[0m\u001b[0;34m\u001b[0m\u001b[0;34m\u001b[0m\u001b[0m\n\u001b[0m\u001b[1;32m     11\u001b[0m     \u001b[0;32mreturn\u001b[0m \u001b[0ma\u001b[0m\u001b[0;34m[\u001b[0m\u001b[0;36m0\u001b[0m\u001b[0;34m]\u001b[0m \u001b[0;34m+\u001b[0m \u001b[0mint\u001b[0m\u001b[0;34m(\u001b[0m\u001b[0msmallOutput\u001b[0m\u001b[0;34m)\u001b[0m\u001b[0;34m\u001b[0m\u001b[0;34m\u001b[0m\u001b[0m\n\u001b[1;32m     12\u001b[0m \u001b[0;34m\u001b[0m\u001b[0m\n",
      "\u001b[0;32m<ipython-input-1-4b463df49dfc>\u001b[0m in \u001b[0;36msum_digits\u001b[0;34m(a)\u001b[0m\n\u001b[1;32m      8\u001b[0m         \u001b[0;32mreturn\u001b[0m \u001b[0ma\u001b[0m\u001b[0;34m\u001b[0m\u001b[0;34m\u001b[0m\u001b[0m\n\u001b[1;32m      9\u001b[0m     \u001b[0msmallList\u001b[0m \u001b[0;34m=\u001b[0m \u001b[0ma\u001b[0m\u001b[0;34m[\u001b[0m\u001b[0;36m1\u001b[0m\u001b[0;34m:\u001b[0m\u001b[0;34m]\u001b[0m\u001b[0;34m\u001b[0m\u001b[0;34m\u001b[0m\u001b[0m\n\u001b[0;32m---> 10\u001b[0;31m     \u001b[0msmallOutput\u001b[0m \u001b[0;34m=\u001b[0m \u001b[0msum_digits\u001b[0m\u001b[0;34m(\u001b[0m\u001b[0msmallList\u001b[0m\u001b[0;34m)\u001b[0m\u001b[0;34m\u001b[0m\u001b[0;34m\u001b[0m\u001b[0m\n\u001b[0m\u001b[1;32m     11\u001b[0m     \u001b[0;32mreturn\u001b[0m \u001b[0ma\u001b[0m\u001b[0;34m[\u001b[0m\u001b[0;36m0\u001b[0m\u001b[0;34m]\u001b[0m \u001b[0;34m+\u001b[0m \u001b[0mint\u001b[0m\u001b[0;34m(\u001b[0m\u001b[0msmallOutput\u001b[0m\u001b[0;34m)\u001b[0m\u001b[0;34m\u001b[0m\u001b[0;34m\u001b[0m\u001b[0m\n\u001b[1;32m     12\u001b[0m \u001b[0;34m\u001b[0m\u001b[0m\n",
      "\u001b[0;32m<ipython-input-1-4b463df49dfc>\u001b[0m in \u001b[0;36msum_digits\u001b[0;34m(a)\u001b[0m\n\u001b[1;32m      9\u001b[0m     \u001b[0msmallList\u001b[0m \u001b[0;34m=\u001b[0m \u001b[0ma\u001b[0m\u001b[0;34m[\u001b[0m\u001b[0;36m1\u001b[0m\u001b[0;34m:\u001b[0m\u001b[0;34m]\u001b[0m\u001b[0;34m\u001b[0m\u001b[0;34m\u001b[0m\u001b[0m\n\u001b[1;32m     10\u001b[0m     \u001b[0msmallOutput\u001b[0m \u001b[0;34m=\u001b[0m \u001b[0msum_digits\u001b[0m\u001b[0;34m(\u001b[0m\u001b[0msmallList\u001b[0m\u001b[0;34m)\u001b[0m\u001b[0;34m\u001b[0m\u001b[0;34m\u001b[0m\u001b[0m\n\u001b[0;32m---> 11\u001b[0;31m     \u001b[0;32mreturn\u001b[0m \u001b[0ma\u001b[0m\u001b[0;34m[\u001b[0m\u001b[0;36m0\u001b[0m\u001b[0;34m]\u001b[0m \u001b[0;34m+\u001b[0m \u001b[0mint\u001b[0m\u001b[0;34m(\u001b[0m\u001b[0msmallOutput\u001b[0m\u001b[0;34m)\u001b[0m\u001b[0;34m\u001b[0m\u001b[0;34m\u001b[0m\u001b[0m\n\u001b[0m\u001b[1;32m     12\u001b[0m \u001b[0;34m\u001b[0m\u001b[0m\n\u001b[1;32m     13\u001b[0m \u001b[0;31m## Read input as specified in the question.\u001b[0m\u001b[0;34m\u001b[0m\u001b[0;34m\u001b[0m\u001b[0;34m\u001b[0m\u001b[0m\n",
      "\u001b[0;31mTypeError\u001b[0m: int() argument must be a string, a bytes-like object or a number, not 'list'"
     ]
    }
   ],
   "source": [
    "from os import *\n",
    "from sys import *\n",
    "from collections import *\n",
    "from math import *\n",
    "\n",
    "def sum_digits(a):\n",
    "    if len(a) == 0 or len(a)==1:\n",
    "        return a\n",
    "    smallList = a[1:]\n",
    "    smallOutput = sum_digits(smallList)\n",
    "    return a[0] + int(smallOutput)\n",
    "\n",
    "## Read input as specified in the question.\n",
    "## Print output as specified in the question.\n",
    "\n",
    "\n",
    "\n",
    "\n",
    "#main\n",
    "a = list(int(i) for i in input())\n",
    "\n",
    "sum_digits(a)"
   ]
  },
  {
   "cell_type": "code",
   "execution_count": null,
   "metadata": {
    "colab": {
     "base_uri": "https://localhost:8080/"
    },
    "id": "yXpcE8-BzTrB",
    "outputId": "fd065ffc-21f2-43b1-ff57-3305a5248409"
   },
   "outputs": [
    {
     "name": "stdout",
     "output_type": "stream",
     "text": [
      "12345\n",
      "<class 'list'>\n",
      "5\n"
     ]
    }
   ],
   "source": [
    "a = list(int(i) for i in input())\n",
    "print(type(a))\n",
    "print(len(a))"
   ]
  },
  {
   "cell_type": "code",
   "execution_count": null,
   "metadata": {
    "colab": {
     "base_uri": "https://localhost:8080/"
    },
    "id": "jOAJmC3Kzgrr",
    "outputId": "d4377fc7-bbd4-40c7-8eb4-1cbc120ca767"
   },
   "outputs": [
    {
     "name": "stdout",
     "output_type": "stream",
     "text": [
      "madam\n",
      "true\n"
     ]
    }
   ],
   "source": [
    "def checkPalindrome(a):\n",
    "    if len(a) <= 1:\n",
    "        return True\n",
    "    if a[0] != a[len(a) - 1]:\n",
    "      print(a[0],a[len(a)-1])\n",
    "      return False\n",
    "    return checkPalindrome(a[1:len(a)-1])\n",
    "\n",
    "a = input()\n",
    "if(checkPalindrome(a) == True):\n",
    "    print('true')\n",
    "else:\n",
    "    print('false')\n"
   ]
  },
  {
   "cell_type": "code",
   "execution_count": null,
   "metadata": {
    "colab": {
     "base_uri": "https://localhost:8080/"
    },
    "id": "E5exPxEdzzO_",
    "outputId": "70e8f2ba-c482-4e76-d64a-7bf423f80a8c"
   },
   "outputs": [
    {
     "name": "stdout",
     "output_type": "stream",
     "text": [
      "000500\n",
      "500\n",
      "000500\n",
      "500\n",
      "500\n"
     ]
    }
   ],
   "source": [
    "## count number of zeros\n",
    "\n",
    "# a = \"000500\"   # although there are  five zeros but when we convert it into integer it becomes 500 and hence has only 2 zeros\n",
    "# print(int(a))\n",
    "\n",
    "a = input()\n",
    "print(int(a))\n",
    "\n",
    "b = int(input())\n",
    "print(b)\n",
    "print(int(b))"
   ]
  },
  {
   "cell_type": "code",
   "execution_count": null,
   "metadata": {
    "id": "-YdZZkP-z0PZ"
   },
   "outputs": [],
   "source": [
    "a = 102030"
   ]
  },
  {
   "cell_type": "code",
   "execution_count": null,
   "metadata": {
    "colab": {
     "base_uri": "https://localhost:8080/"
    },
    "id": "nxC9bkZmhZdh",
    "outputId": "393baae4-d5d5-45d7-c666-95bf5867526e"
   },
   "outputs": [
    {
     "name": "stdout",
     "output_type": "stream",
     "text": [
      "10203\n",
      "0\n"
     ]
    }
   ],
   "source": [
    "print(a//10)\n",
    "print(a%10)"
   ]
  },
  {
   "cell_type": "code",
   "execution_count": null,
   "metadata": {
    "colab": {
     "base_uri": "https://localhost:8080/"
    },
    "id": "SlEP50C0hcr8",
    "outputId": "3f37bd7d-9c1f-4fd7-e277-aba01a8aeba6"
   },
   "outputs": [
    {
     "data": {
      "text/plain": [
       "-1"
      ]
     },
     "execution_count": 29,
     "metadata": {},
     "output_type": "execute_result"
    }
   ],
   "source": [
    "-1//10"
   ]
  },
  {
   "cell_type": "code",
   "execution_count": null,
   "metadata": {
    "id": "yt2kvxkHrzGz"
   },
   "outputs": [],
   "source": []
  }
 ],
 "metadata": {
  "colab": {
   "collapsed_sections": [],
   "provenance": []
  },
  "kernelspec": {
   "display_name": "Python 3 (ipykernel)",
   "language": "python",
   "name": "python3"
  },
  "language_info": {
   "codemirror_mode": {
    "name": "ipython",
    "version": 3
   },
   "file_extension": ".py",
   "mimetype": "text/x-python",
   "name": "python",
   "nbconvert_exporter": "python",
   "pygments_lexer": "ipython3",
   "version": "3.9.12"
  }
 },
 "nbformat": 4,
 "nbformat_minor": 1
}
