{
 "cells": [
  {
   "cell_type": "code",
   "execution_count": 6,
   "id": "38e32d94",
   "metadata": {},
   "outputs": [],
   "source": [
    "class vehicle:\n",
    "    baseValue = 1000\n",
    "    \n",
    "    def __init__(self,make,model,fuel):\n",
    "        self.make = make\n",
    "        self.model = model\n",
    "        self.fuel = fuel\n",
    "        \n",
    "    def get_value(self):\n",
    "        age = 2022 - self.model\n",
    "        return self.baseValue * (1/age)\n",
    "    "
   ]
  },
  {
   "cell_type": "code",
   "execution_count": 7,
   "id": "30efdb74",
   "metadata": {},
   "outputs": [],
   "source": [
    "obj = vehicle(\"Tesle\",2021,\"Fuel\")"
   ]
  },
  {
   "cell_type": "code",
   "execution_count": 8,
   "id": "18fabfd8",
   "metadata": {},
   "outputs": [
    {
     "data": {
      "text/plain": [
       "1000.0"
      ]
     },
     "execution_count": 8,
     "metadata": {},
     "output_type": "execute_result"
    }
   ],
   "source": [
    "obj.get_value()"
   ]
  },
  {
   "cell_type": "code",
   "execution_count": 11,
   "id": "7131dc70",
   "metadata": {},
   "outputs": [
    {
     "ename": "ZeroDivisionError",
     "evalue": "division by zero",
     "output_type": "error",
     "traceback": [
      "\u001b[1;31m---------------------------------------------------------------------------\u001b[0m",
      "\u001b[1;31mZeroDivisionError\u001b[0m                         Traceback (most recent call last)",
      "Input \u001b[1;32mIn [11]\u001b[0m, in \u001b[0;36m<cell line: 3>\u001b[1;34m()\u001b[0m\n\u001b[0;32m      1\u001b[0m \u001b[38;5;66;03m# if we give the model as 2022 the age will become zero\u001b[39;00m\n\u001b[0;32m      2\u001b[0m obj2 \u001b[38;5;241m=\u001b[39m vehicle(\u001b[38;5;124m\"\u001b[39m\u001b[38;5;124mTesle\u001b[39m\u001b[38;5;124m\"\u001b[39m,\u001b[38;5;241m2022\u001b[39m,\u001b[38;5;124m\"\u001b[39m\u001b[38;5;124mFuel\u001b[39m\u001b[38;5;124m\"\u001b[39m)\n\u001b[1;32m----> 3\u001b[0m \u001b[43mobj2\u001b[49m\u001b[38;5;241;43m.\u001b[39;49m\u001b[43mget_value\u001b[49m\u001b[43m(\u001b[49m\u001b[43m)\u001b[49m\n",
      "Input \u001b[1;32mIn [6]\u001b[0m, in \u001b[0;36mvehicle.get_value\u001b[1;34m(self)\u001b[0m\n\u001b[0;32m      9\u001b[0m \u001b[38;5;28;01mdef\u001b[39;00m \u001b[38;5;21mget_value\u001b[39m(\u001b[38;5;28mself\u001b[39m):\n\u001b[0;32m     10\u001b[0m     age \u001b[38;5;241m=\u001b[39m \u001b[38;5;241m2022\u001b[39m \u001b[38;5;241m-\u001b[39m \u001b[38;5;28mself\u001b[39m\u001b[38;5;241m.\u001b[39mmodel\n\u001b[1;32m---> 11\u001b[0m     \u001b[38;5;28;01mreturn\u001b[39;00m \u001b[38;5;28mself\u001b[39m\u001b[38;5;241m.\u001b[39mbaseValue \u001b[38;5;241m*\u001b[39m (\u001b[38;5;241;43m1\u001b[39;49m\u001b[38;5;241;43m/\u001b[39;49m\u001b[43mage\u001b[49m)\n",
      "\u001b[1;31mZeroDivisionError\u001b[0m: division by zero"
     ]
    }
   ],
   "source": [
    "# if we give the model as 2022 the age will become zero\n",
    "obj2 = vehicle(\"Tesle\",2022,\"Fuel\")\n",
    "obj2.get_value()"
   ]
  },
  {
   "cell_type": "code",
   "execution_count": 12,
   "id": "f14e348f",
   "metadata": {},
   "outputs": [],
   "source": [
    "class vehicle:\n",
    "    baseValue = 1000\n",
    "    \n",
    "    def __init__(self,make,model,fuel):\n",
    "        self.make = make\n",
    "        self.model = model\n",
    "        self.fuel = fuel\n",
    "        \n",
    "    def get_value(self):\n",
    "        \n",
    "        try:\n",
    "            age = 2022 - self.model\n",
    "            return self.baseValue * (1/age)\n",
    "        except ZeroDivisionError:\n",
    "            age = 1                                      # changed age to 1\n",
    "            return self.baseValue * (1/age)"
   ]
  },
  {
   "cell_type": "code",
   "execution_count": 13,
   "id": "328c0654",
   "metadata": {},
   "outputs": [
    {
     "data": {
      "text/plain": [
       "1000.0"
      ]
     },
     "execution_count": 13,
     "metadata": {},
     "output_type": "execute_result"
    }
   ],
   "source": [
    "obj3 = vehicle(\"Tesle\",2022,\"Fuel\")\n",
    "obj3.get_value()"
   ]
  },
  {
   "cell_type": "code",
   "execution_count": 25,
   "id": "2f4c214a",
   "metadata": {},
   "outputs": [],
   "source": [
    "class vehicle:\n",
    "    baseValue = 1000\n",
    "    \n",
    "    def __init__(self,make,model,fuel):\n",
    "        self.make = make\n",
    "        self.model = model\n",
    "        self.fuel = fuel\n",
    "        \n",
    "    def get_value(self):\n",
    "        \n",
    "        try:\n",
    "            age = 2022 - self.model\n",
    "            return self.baseValue * (1/age)\n",
    "        except ZeroDivisionError:\n",
    "            age = 1                                      # changed age to 1\n",
    "            return self.baseValue * (1/age)\n",
    "        except TypeError:\n",
    "            age = 2022 - int(self.model)\n",
    "            return self.baseValue * (1/age)\n",
    "            "
   ]
  },
  {
   "cell_type": "code",
   "execution_count": 26,
   "id": "b8ddcbd9",
   "metadata": {},
   "outputs": [
    {
     "data": {
      "text/plain": [
       "1000.0"
      ]
     },
     "execution_count": 26,
     "metadata": {},
     "output_type": "execute_result"
    }
   ],
   "source": [
    "obj4 = vehicle(\"Tesle\",\"2021\",\"Fuel\")\n",
    "obj4.get_value()\n"
   ]
  },
  {
   "cell_type": "markdown",
   "id": "bf16ee66",
   "metadata": {},
   "source": [
    "# Handling multiple exceptions"
   ]
  },
  {
   "cell_type": "code",
   "execution_count": 8,
   "id": "c7b5814d",
   "metadata": {},
   "outputs": [],
   "source": [
    "class vehicle:\n",
    "    baseValue = 1000\n",
    "    \n",
    "    def __init__(self,make,model,fuel):\n",
    "        self.make = make\n",
    "        self.model = model\n",
    "        self.fuel = fuel\n",
    "        \n",
    "    def get_value(self):\n",
    "        \n",
    "        try:\n",
    "            age = 2022 - self.model\n",
    "            return self.baseValue * (1/age)\n",
    "        except ZeroDivisionError:\n",
    "            age = 1                                      # changed age to 1\n",
    "            return self.baseValue * (1/age)\n",
    "        except TypeError:\n",
    "            age = 2022 - int(self.model)\n",
    "            return self.baseValue * (1/age)"
   ]
  },
  {
   "cell_type": "code",
   "execution_count": 10,
   "id": "b4462f0a",
   "metadata": {},
   "outputs": [
    {
     "data": {
      "text/plain": [
       "1000.0"
      ]
     },
     "execution_count": 10,
     "metadata": {},
     "output_type": "execute_result"
    }
   ],
   "source": [
    "r = vehicle(\"rohit\",'2022',\"Electric\")\n",
    "r.get_value()\n",
    "# we still get ZeroDivisionError"
   ]
  },
  {
   "cell_type": "code",
   "execution_count": 18,
   "id": "31ded92f",
   "metadata": {},
   "outputs": [],
   "source": [
    "class vehicle:\n",
    "    baseValue = 1000\n",
    "    \n",
    "    def __init__(self,make,model,fuel):\n",
    "        self.make = make\n",
    "        self.model = model\n",
    "        self.fuel = fuel\n",
    "        \n",
    "    def get_value(self):\n",
    "        \n",
    "        try:\n",
    "            age = 2022 - self.model\n",
    "            return self.baseValue * (1/age)\n",
    "        except TypeError:\n",
    "            try:\n",
    "                age = 2022 - int(self.model)\n",
    "                return self.baseValue * (1/age)\n",
    "            except ZeroDivisionError:\n",
    "                age = 1                                      \n",
    "                return self.baseValue * (1/age)\n",
    "        except :\n",
    "            return \"You have entered model in incorrect Format\"\n",
    "        "
   ]
  },
  {
   "cell_type": "code",
   "execution_count": 19,
   "id": "0756bc68",
   "metadata": {},
   "outputs": [
    {
     "data": {
      "text/plain": [
       "1000.0"
      ]
     },
     "execution_count": 19,
     "metadata": {},
     "output_type": "execute_result"
    }
   ],
   "source": [
    "r = vehicle(\"rohit\",'2022',\"Electric\")\n",
    "r.get_value()\n"
   ]
  },
  {
   "cell_type": "code",
   "execution_count": 20,
   "id": "40d97dba",
   "metadata": {},
   "outputs": [
    {
     "data": {
      "text/plain": [
       "'You have entered model in incorrect Format'"
      ]
     },
     "execution_count": 20,
     "metadata": {},
     "output_type": "execute_result"
    }
   ],
   "source": [
    "t = vehicle(\"rohit\",2022,\"Electric\")\n",
    "t.get_value()"
   ]
  },
  {
   "cell_type": "markdown",
   "id": "e183f694",
   "metadata": {},
   "source": [
    "# how to write custom exceptions\n",
    "\n",
    "## Raise"
   ]
  },
  {
   "cell_type": "code",
   "execution_count": 81,
   "id": "3aafb49c",
   "metadata": {},
   "outputs": [],
   "source": [
    "class NegativeCarValue(Exception):\n",
    "    \n",
    "    def __init__(self,value,message=\"Car Value cannot be Negative! 😘 \"):\n",
    "        self.value = value\n",
    "        self.message = message\n",
    "        super().__init__(self.message)\n",
    "        \n",
    "    def __str__(self):\n",
    "        return f'{self.message} --> {self.value}'\n",
    "        \n",
    "    "
   ]
  },
  {
   "cell_type": "code",
   "execution_count": 82,
   "id": "98805565",
   "metadata": {},
   "outputs": [
    {
     "ename": "NegativeCarValue",
     "evalue": "Value of a cannot be negative  --> -25",
     "output_type": "error",
     "traceback": [
      "\u001b[1;31m---------------------------------------------------------------------------\u001b[0m",
      "\u001b[1;31mNegativeCarValue\u001b[0m                          Traceback (most recent call last)",
      "Input \u001b[1;32mIn [82]\u001b[0m, in \u001b[0;36m<cell line: 2>\u001b[1;34m()\u001b[0m\n\u001b[0;32m      1\u001b[0m a \u001b[38;5;241m=\u001b[39m \u001b[38;5;241m-\u001b[39m\u001b[38;5;241m25\u001b[39m\n\u001b[0;32m      2\u001b[0m \u001b[38;5;28;01mif\u001b[39;00m a \u001b[38;5;241m<\u001b[39m \u001b[38;5;241m0\u001b[39m:\n\u001b[1;32m----> 3\u001b[0m     \u001b[38;5;28;01mraise\u001b[39;00m NegativeCarValue(a,\u001b[38;5;124m\"\u001b[39m\u001b[38;5;124mValue of a cannot be negative \u001b[39m\u001b[38;5;124m\"\u001b[39m)\n",
      "\u001b[1;31mNegativeCarValue\u001b[0m: Value of a cannot be negative  --> -25"
     ]
    }
   ],
   "source": [
    "a = -25\n",
    "if a < 0:\n",
    "    raise NegativeCarValue(a,\"Value of a cannot be negative \")"
   ]
  },
  {
   "cell_type": "code",
   "execution_count": 83,
   "id": "86ee9df3",
   "metadata": {},
   "outputs": [],
   "source": [
    "class vehicle:\n",
    "    \n",
    "    baseValue = 1000\n",
    "    currentYear = 2022\n",
    "    \n",
    "    def __init__(self,make,model,fuel):\n",
    "        self.make = make\n",
    "        self.model = model\n",
    "        self.fuel = fuel\n",
    "    def get_value(self):\n",
    "        age = self.currentYear - self.model\n",
    "        if age < 0:\n",
    "            raise NegativeCarValue(age)\n",
    "        else:\n",
    "            return 1000*(1/age)\n",
    "        \n",
    "    "
   ]
  },
  {
   "cell_type": "code",
   "execution_count": 84,
   "id": "edb58fa9",
   "metadata": {},
   "outputs": [],
   "source": [
    "v = vehicle(\"rohit\",2025,\"Electric\")"
   ]
  },
  {
   "cell_type": "code",
   "execution_count": 85,
   "id": "b2bce993",
   "metadata": {},
   "outputs": [
    {
     "ename": "NegativeCarValue",
     "evalue": "Car Value cannot be Negative! 😘  --> -3",
     "output_type": "error",
     "traceback": [
      "\u001b[1;31m---------------------------------------------------------------------------\u001b[0m",
      "\u001b[1;31mNegativeCarValue\u001b[0m                          Traceback (most recent call last)",
      "Input \u001b[1;32mIn [85]\u001b[0m, in \u001b[0;36m<cell line: 1>\u001b[1;34m()\u001b[0m\n\u001b[1;32m----> 1\u001b[0m \u001b[43mv\u001b[49m\u001b[38;5;241;43m.\u001b[39;49m\u001b[43mget_value\u001b[49m\u001b[43m(\u001b[49m\u001b[43m)\u001b[49m\n",
      "Input \u001b[1;32mIn [83]\u001b[0m, in \u001b[0;36mvehicle.get_value\u001b[1;34m(self)\u001b[0m\n\u001b[0;32m     11\u001b[0m age \u001b[38;5;241m=\u001b[39m \u001b[38;5;28mself\u001b[39m\u001b[38;5;241m.\u001b[39mcurrentYear \u001b[38;5;241m-\u001b[39m \u001b[38;5;28mself\u001b[39m\u001b[38;5;241m.\u001b[39mmodel\n\u001b[0;32m     12\u001b[0m \u001b[38;5;28;01mif\u001b[39;00m age \u001b[38;5;241m<\u001b[39m \u001b[38;5;241m0\u001b[39m:\n\u001b[1;32m---> 13\u001b[0m     \u001b[38;5;28;01mraise\u001b[39;00m NegativeCarValue(age)\n\u001b[0;32m     14\u001b[0m \u001b[38;5;28;01melse\u001b[39;00m:\n\u001b[0;32m     15\u001b[0m     \u001b[38;5;28;01mreturn\u001b[39;00m \u001b[38;5;241m1000\u001b[39m\u001b[38;5;241m*\u001b[39m(\u001b[38;5;241m1\u001b[39m\u001b[38;5;241m/\u001b[39mage)\n",
      "\u001b[1;31mNegativeCarValue\u001b[0m: Car Value cannot be Negative! 😘  --> -3"
     ]
    }
   ],
   "source": [
    "v.get_value()"
   ]
  },
  {
   "cell_type": "code",
   "execution_count": 86,
   "id": "7fea7005",
   "metadata": {},
   "outputs": [
    {
     "name": "stdout",
     "output_type": "stream",
     "text": [
      "<__main__.vehicle object at 0x0000014EE884C430>\n"
     ]
    }
   ],
   "source": [
    "print(v)"
   ]
  },
  {
   "cell_type": "code",
   "execution_count": 87,
   "id": "fc50c0b8",
   "metadata": {},
   "outputs": [
    {
     "ename": "ZeroDenominatorError",
     "evalue": "",
     "output_type": "error",
     "traceback": [
      "\u001b[1;31m---------------------------------------------------------------------------\u001b[0m",
      "\u001b[1;31mZeroDenominatorError\u001b[0m                      Traceback (most recent call last)",
      "Input \u001b[1;32mIn [87]\u001b[0m, in \u001b[0;36m<cell line: 3>\u001b[1;34m()\u001b[0m\n\u001b[0;32m      5\u001b[0m     b \u001b[38;5;241m=\u001b[39m \u001b[38;5;241m0\u001b[39m\n\u001b[0;32m      6\u001b[0m     \u001b[38;5;28;01mif\u001b[39;00m(b\u001b[38;5;241m==\u001b[39m\u001b[38;5;241m0\u001b[39m):\n\u001b[1;32m----> 7\u001b[0m         \u001b[38;5;28;01mraise\u001b[39;00m ZeroDenominatorError() \n\u001b[0;32m      8\u001b[0m     c \u001b[38;5;241m=\u001b[39m a\u001b[38;5;241m/\u001b[39mb\n\u001b[0;32m      9\u001b[0m \u001b[38;5;28;01mexcept\u001b[39;00m \u001b[38;5;167;01mZeroDivisionError\u001b[39;00m:\n",
      "\u001b[1;31mZeroDenominatorError\u001b[0m: "
     ]
    }
   ],
   "source": [
    "class ZeroDenominatorError(Exception):\n",
    "    pass\n",
    "try:\n",
    "    a = 10\n",
    "    b = 0\n",
    "    if(b==0):\n",
    "        raise ZeroDenominatorError() \n",
    "    c = a/b\n",
    "except ZeroDivisionError:\n",
    "    print('Zero Division Error occured')"
   ]
  },
  {
   "cell_type": "markdown",
   "id": "e25da044",
   "metadata": {},
   "source": [
    "## if we dont want to print so many lines showing error message then we can use try except along with the Raise"
   ]
  },
  {
   "cell_type": "code",
   "execution_count": 88,
   "id": "3313e737",
   "metadata": {},
   "outputs": [],
   "source": [
    "class vehicle:\n",
    "    \n",
    "    baseValue = 1000\n",
    "    currentYear = 2022\n",
    "    \n",
    "    def __init__(self,make,model,fuel):\n",
    "        self.make = make\n",
    "        self.model = model\n",
    "        self.fuel = fuel\n",
    "    def get_value(self):\n",
    "        age = self.currentYear - self.model\n",
    "        \n",
    "        try:\n",
    "            if age < 0:\n",
    "                raise NegativeCarValue(age)\n",
    "            else:\n",
    "                return 1000*(1/age)\n",
    "        except NegativeCarValue as e:                  # e mai error message store hota hai\n",
    "            print(\" error ***** \",e)\n",
    "        \n",
    "    "
   ]
  },
  {
   "cell_type": "code",
   "execution_count": 89,
   "id": "53dfb29f",
   "metadata": {},
   "outputs": [],
   "source": [
    "newobj = vehicle(\"rohit\",2025,\"Electric\")"
   ]
  },
  {
   "cell_type": "code",
   "execution_count": 91,
   "id": "65e44ec9",
   "metadata": {},
   "outputs": [
    {
     "name": "stdout",
     "output_type": "stream",
     "text": [
      " error *****  Car Value cannot be Negative! 😘  --> -3\n"
     ]
    }
   ],
   "source": [
    "newobj.get_value()"
   ]
  },
  {
   "cell_type": "code",
   "execution_count": 96,
   "id": "8a1585b9",
   "metadata": {},
   "outputs": [
    {
     "name": "stdout",
     "output_type": "stream",
     "text": [
      "Zero Division Error occured\n"
     ]
    }
   ],
   "source": [
    "class ZeroDenominatorError(ZeroDivisionError):\n",
    "    pass\n",
    "try:\n",
    "    a = 10\n",
    "    b = 0\n",
    "    if(b==0):\n",
    "        raise ZeroDenominatorError()\n",
    "    c = a/b\n",
    "except ZeroDivisionError:\n",
    "    print('Zero Division Error occured')\n",
    "except ZeroDenominatorError:\n",
    "    print('Zero Denominator Error occured')"
   ]
  },
  {
   "cell_type": "markdown",
   "id": "a8e4ff5c",
   "metadata": {},
   "source": [
    "# Else and Finally"
   ]
  },
  {
   "cell_type": "code",
   "execution_count": 126,
   "id": "a9097e6f",
   "metadata": {},
   "outputs": [],
   "source": [
    "class modelYear(Exception):\n",
    "    \n",
    "    def __init__(self,value,message=\"Model Year cannot be greater than current year 2022! 😘 \"):\n",
    "        self.value = value\n",
    "        self.message = message\n",
    "        super().__init__(self.message)\n",
    "        \n",
    "    def __str__(self):\n",
    "        return f'{self.message} --> {self.value}'\n",
    "    \n",
    "    \n",
    "    \n",
    "class StringValue(Exception):\n",
    "    \n",
    "    def __init__(self,value,message=\"Car Value cannot be a String! 🤐 \"):\n",
    "        self.value = value\n",
    "        self.message = message\n",
    "        super().__init__(self.message)\n",
    "        \n",
    "    def __str__(self):\n",
    "        return f'{self.message} --> {self.value}'\n",
    "        "
   ]
  },
  {
   "cell_type": "code",
   "execution_count": 155,
   "id": "8e67df14",
   "metadata": {},
   "outputs": [],
   "source": [
    "class vehicle:\n",
    "    \n",
    "    baseValue = 1000\n",
    "    currentYear = 2022\n",
    "    \n",
    "    def __init__(self,make,model,fuel):\n",
    "        self.make = make\n",
    "        self.model = model\n",
    "        self.fuel = fuel\n",
    "    def get_value(self):\n",
    "#         age = self.currentYear - self.model\n",
    "        \n",
    "        try:\n",
    "            if type(self.model) == str:\n",
    "                status = \"custom error model is in string\"\n",
    "                raise StringValue(self.model)\n",
    "            elif self.currentYear <= self.model :\n",
    "                status = \"custom error model year is wrong\"\n",
    "                raise modelYear(self.model)\n",
    "            else:\n",
    "                status = \"successfull\"\n",
    "                age = self.currentYear - self.model\n",
    "                return self.baseValue * (1/age)\n",
    "        \n",
    "        except TypeError:                                      # ye run nahi hoga kyuki already upper try mai Stringvalue ko call kiya hai\n",
    "            status = \"inbuilt\"                                 # except isliye likha kyu ki syntax hai. try use kiua tho except hona hi chahiye \n",
    "            age = self.currentYear - int(self.model) \n",
    "            return self.baseValue * (1/age)\n",
    "        \n",
    "#         except modelYear as e:                  # e mai error message store hota hai\n",
    "#             print(\" error ***** \",e)\n",
    "#         except StringValue as e:\n",
    "            print(\" Error ----\" , e)\n",
    "            \n",
    "        \n",
    "            \n",
    "        else:\n",
    "            print(\"everything is fine and i am in exception ka else wala block\")\n",
    "            \n",
    "        finally:\n",
    "            if status == \"custom error model is in string\":\n",
    "                print(\"please enter model year in integer format\")\n",
    "            elif status == \"custom error model year is wrong\":\n",
    "                print(\"please enter currect model year \")\n",
    "            elif status == \"inbuilt\":\n",
    "                print(\"inbuilt error aya hai\")\n",
    "            else:\n",
    "                print(\"sub badhiya hai\")\n",
    "            "
   ]
  },
  {
   "cell_type": "code",
   "execution_count": 156,
   "id": "41f3195e",
   "metadata": {},
   "outputs": [
    {
     "name": "stdout",
     "output_type": "stream",
     "text": [
      "please enter model year in integer format\n"
     ]
    },
    {
     "ename": "StringValue",
     "evalue": "Car Value cannot be a String! 🤐  --> 2019",
     "output_type": "error",
     "traceback": [
      "\u001b[1;31m---------------------------------------------------------------------------\u001b[0m",
      "\u001b[1;31mStringValue\u001b[0m                               Traceback (most recent call last)",
      "Input \u001b[1;32mIn [156]\u001b[0m, in \u001b[0;36m<cell line: 2>\u001b[1;34m()\u001b[0m\n\u001b[0;32m      1\u001b[0m myobj \u001b[38;5;241m=\u001b[39m vehicle(\u001b[38;5;124m\"\u001b[39m\u001b[38;5;124mtesla\u001b[39m\u001b[38;5;124m\"\u001b[39m,\u001b[38;5;124m\"\u001b[39m\u001b[38;5;124m2019\u001b[39m\u001b[38;5;124m\"\u001b[39m,\u001b[38;5;124m\"\u001b[39m\u001b[38;5;124melectric\u001b[39m\u001b[38;5;124m\"\u001b[39m)\n\u001b[1;32m----> 2\u001b[0m \u001b[43mmyobj\u001b[49m\u001b[38;5;241;43m.\u001b[39;49m\u001b[43mget_value\u001b[49m\u001b[43m(\u001b[49m\u001b[43m)\u001b[49m\n",
      "Input \u001b[1;32mIn [155]\u001b[0m, in \u001b[0;36mvehicle.get_value\u001b[1;34m(self)\u001b[0m\n\u001b[0;32m     14\u001b[0m \u001b[38;5;28;01mif\u001b[39;00m \u001b[38;5;28mtype\u001b[39m(\u001b[38;5;28mself\u001b[39m\u001b[38;5;241m.\u001b[39mmodel) \u001b[38;5;241m==\u001b[39m \u001b[38;5;28mstr\u001b[39m:\n\u001b[0;32m     15\u001b[0m     status \u001b[38;5;241m=\u001b[39m \u001b[38;5;124m\"\u001b[39m\u001b[38;5;124mcustom error model is in string\u001b[39m\u001b[38;5;124m\"\u001b[39m\n\u001b[1;32m---> 16\u001b[0m     \u001b[38;5;28;01mraise\u001b[39;00m StringValue(\u001b[38;5;28mself\u001b[39m\u001b[38;5;241m.\u001b[39mmodel)\n\u001b[0;32m     17\u001b[0m \u001b[38;5;28;01melif\u001b[39;00m \u001b[38;5;28mself\u001b[39m\u001b[38;5;241m.\u001b[39mcurrentYear \u001b[38;5;241m<\u001b[39m\u001b[38;5;241m=\u001b[39m \u001b[38;5;28mself\u001b[39m\u001b[38;5;241m.\u001b[39mmodel :\n\u001b[0;32m     18\u001b[0m     status \u001b[38;5;241m=\u001b[39m \u001b[38;5;124m\"\u001b[39m\u001b[38;5;124mcustom error model year is wrong\u001b[39m\u001b[38;5;124m\"\u001b[39m\n",
      "\u001b[1;31mStringValue\u001b[0m: Car Value cannot be a String! 🤐  --> 2019"
     ]
    }
   ],
   "source": [
    "myobj = vehicle(\"tesla\",\"2019\",\"electric\")\n",
    "myobj.get_value()"
   ]
  },
  {
   "cell_type": "markdown",
   "id": "3230ab85",
   "metadata": {},
   "source": [
    "#  else and finally wale block mai\n",
    "# Else tabhi run hoga jub koe error nahi hoga try mai\n",
    "# finally hamesha run hoga regardless error hai ki nahi -->"
   ]
  },
  {
   "cell_type": "code",
   "execution_count": 158,
   "id": "54b04b4a",
   "metadata": {},
   "outputs": [
    {
     "name": "stdout",
     "output_type": "stream",
     "text": [
      "Zero Division Error occured "
     ]
    }
   ],
   "source": [
    "class ZeroDenominatorError(ZeroDivisionError):\n",
    "    pass\n",
    "try:\n",
    "    a = 10\n",
    "    b = 0\n",
    "    if(b==0):\n",
    "        raise ZeroDenominatorError()\n",
    "    c = a/b\n",
    "except ZeroDivisionError:\n",
    "    print('Zero Division Error occured',end= \" \")\n",
    "except ZeroDenominatorError:\n",
    "    print('Zero Denominator Error occured',end = \" \")\n",
    "else:\n",
    "    print(\"else works\")"
   ]
  },
  {
   "cell_type": "code",
   "execution_count": null,
   "id": "3ec5c146",
   "metadata": {},
   "outputs": [],
   "source": []
  }
 ],
 "metadata": {
  "kernelspec": {
   "display_name": "Python 3 (ipykernel)",
   "language": "python",
   "name": "python3"
  },
  "language_info": {
   "codemirror_mode": {
    "name": "ipython",
    "version": 3
   },
   "file_extension": ".py",
   "mimetype": "text/x-python",
   "name": "python",
   "nbconvert_exporter": "python",
   "pygments_lexer": "ipython3",
   "version": "3.9.12"
  }
 },
 "nbformat": 4,
 "nbformat_minor": 5
}
